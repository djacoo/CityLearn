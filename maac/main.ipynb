{
 "cells": [
  {
   "cell_type": "code",
   "execution_count": 1,
   "outputs": [],
   "source": [
    "import argparse\n",
    "import matplotlib.pyplot as plt\n",
    "from logger.plotting import plot_episode_stats\n",
    "from maac.logger.run_utils import setup_logger_kwargs"
   ],
   "metadata": {
    "collapsed": false,
    "pycharm": {
     "name": "#%%\n"
    }
   }
  },
  {
   "cell_type": "code",
   "execution_count": 2,
   "outputs": [],
   "source": [
    "parser = argparse.ArgumentParser(description=\"Experimenting Actor-Attention-Critic\")\n",
    "parser.add_argument(\"--env_id\", default=\"5\", help=\"Name of environment\")\n",
    "parser.add_argument(\"--buffer_length\", default=int(1e6), type=int)\n",
    "parser.add_argument(\"--n_episodes\", default=5, type=int)\n",
    "parser.add_argument(\"--climate_zone\", default=5, type=int)\n",
    "parser.add_argument(\"--episode_length\", default=200, type=int)\n",
    "parser.add_argument(\"--batch_size\",\n",
    "                    default=64, type=int,\n",
    "                    help=\"Batch size for training\")\n",
    "parser.add_argument(\"--update_after\", default=80)\n",
    "parser.add_argument(\"--update_every\", default=10, type=int)\n",
    "parser.add_argument(\"--num_updates\", default=1, type=int,\n",
    "                    help=\"Number of updates per update cycle\")\n",
    "parser.add_argument(\"--exploration\", default=100, type=int)\n",
    "parser.add_argument(\"--exp_name\", type=str, default=\"maac\")\n",
    "parser.add_argument(\"--seed\", type=int, default=42)\n",
    "\n",
    "config, unknown = parser.parse_known_args()\n",
    "\n",
    "logger_kwargs = setup_logger_kwargs(config.exp_name, config.seed)"
   ],
   "metadata": {
    "collapsed": false,
    "pycharm": {
     "name": "#%%\n"
    }
   }
  },
  {
   "cell_type": "code",
   "execution_count": 3,
   "outputs": [
    {
     "name": "stdout",
     "output_type": "stream",
     "text": [
      "Warning: Log dir /Users/xiejiahan/PycharmProjects/CityLearn/data/maac/maac_s42 already exists! Storing info there anyway.\n",
      "\u001B[32;1mLogging data to /Users/xiejiahan/PycharmProjects/CityLearn/data/maac/maac_s42/progress.txt\u001B[0m\n",
      "\u001B[36;1mSaving config:\n",
      "\u001B[0m\n",
      "{\n",
      "    \"config\":\t{\n",
      "        \"Namespace(batch_size=64, buffer_length=1000000, climate_zone=5, env_id='5', episode_length=200, exp_name='maac', exploration=100, n_episodes=5, num_updates=1, seed=42, update_after=80, update_every=10)\":\t{\n",
      "            \"batch_size\":\t64,\n",
      "            \"buffer_length\":\t1000000,\n",
      "            \"climate_zone\":\t5,\n",
      "            \"env_id\":\t\"5\",\n",
      "            \"episode_length\":\t200,\n",
      "            \"exp_name\":\t\"maac\",\n",
      "            \"exploration\":\t100,\n",
      "            \"n_episodes\":\t5,\n",
      "            \"num_updates\":\t1,\n",
      "            \"seed\":\t42,\n",
      "            \"update_after\":\t80,\n",
      "            \"update_every\":\t10\n",
      "        }\n",
      "    },\n",
      "    \"exp_name\":\t\"maac\",\n",
      "    \"logger\":\t{\n",
      "        \"<logger.logx.EpochLogger object at 0x148512580>\":\t{\n",
      "            \"epoch_dict\":\t{},\n",
      "            \"exp_name\":\t\"maac\",\n",
      "            \"first_row\":\ttrue,\n",
      "            \"log_current_row\":\t{},\n",
      "            \"log_headers\":\t[],\n",
      "            \"output_dir\":\t\"/Users/xiejiahan/PycharmProjects/CityLearn/data/maac/maac_s42\",\n",
      "            \"output_file\":\t{\n",
      "                \"<_io.TextIOWrapper name='/Users/xiejiahan/PycharmProjects/CityLearn/data/maac/maac_s42/progress.txt' mode='w' encoding='UTF-8'>\":\t{\n",
      "                    \"mode\":\t\"w\"\n",
      "                }\n",
      "            }\n",
      "        }\n",
      "    },\n",
      "    \"logger_kwargs\":\t{\n",
      "        \"exp_name\":\t\"maac\",\n",
      "        \"output_dir\":\t\"/Users/xiejiahan/PycharmProjects/CityLearn/data/maac/maac_s42\"\n",
      "    }\n",
      "}\n",
      "The id of the environment is 5;\n",
      "AttentionSAC initialized from environment\n",
      "Created algo - AttentionSAC \n",
      "\u001B[32;1m\n",
      "Number of parameters: \t critic1: 1460745, \t critic2: 1460745, \t pi[0]: 136906, \t pi[4]: 136906\n",
      "\u001B[0m\n",
      "Episodes 1 of 5\n",
      "The id of the environment is 5;\n",
      "Episode time 1 of 200\n",
      "-59718.207\n",
      "-50094.07\n",
      "-34724.523\n",
      "-286886.88\n",
      "1th episode reward is: -15846570.704101562\n",
      "1th episode total cost is: 1.2244538915250247\n",
      "ran 1th episode \n",
      "\n",
      "Episodes 2 of 5\n",
      "The id of the environment is 5;\n",
      "Episode time 1 of 200\n",
      "-19207.285\n",
      "-22570.775\n",
      "-39125.582\n",
      "-279645.94\n",
      "2th episode reward is: -15262057.188476562\n",
      "2th episode total cost is: 1.1046013245861097\n",
      "ran 2th episode \n",
      "\n",
      "Episodes 3 of 5\n",
      "The id of the environment is 5;\n",
      "Episode time 1 of 200\n",
      "-21141.742\n",
      "-61322.703\n",
      "-36941.36\n",
      "-279079.34\n",
      "3th episode reward is: -14394874.240234375\n",
      "3th episode total cost is: 1.0391172140188696\n",
      "ran 3th episode \n",
      "\n",
      "Episodes 4 of 5\n",
      "The id of the environment is 5;\n",
      "Episode time 1 of 200\n",
      "-18845.29\n",
      "-33572.266\n",
      "-28442.258\n",
      "-279103.03\n",
      "4th episode reward is: -14944405.531738281\n",
      "4th episode total cost is: 1.0859190194324089\n",
      "ran 4th episode \n",
      "\n",
      "Episodes 5 of 5\n",
      "The id of the environment is 5;\n",
      "Episode time 1 of 200\n",
      "-21233.865\n",
      "-28892.549\n",
      "-31982.004\n",
      "-293034.38\n",
      "5th episode reward is: -14100358.341796875\n",
      "5th episode total cost is: 1.0495373966976769\n",
      "ran 5th episode \n",
      "\n",
      "-------------------------------------\n",
      "|    AverageEpRet |       -1.49e+07 |\n",
      "|        StdEpRet |         6.2e+05 |\n",
      "|        MaxEpRet |       -1.41e+07 |\n",
      "|        MinEpRet |       -1.58e+07 |\n",
      "|           EpLen |             600 |\n",
      "|            Time |             526 |\n",
      "-------------------------------------\n"
     ]
    }
   ],
   "source": [
    "from main import run\n",
    "envs, stats = run(config, logger_kwargs=logger_kwargs)"
   ],
   "metadata": {
    "collapsed": false,
    "pycharm": {
     "name": "#%%\n"
    }
   }
  },
  {
   "cell_type": "code",
   "execution_count": 4,
   "outputs": [
    {
     "data": {
      "text/plain": "<Figure size 720x360 with 1 Axes>",
      "image/png": "[encoded data removed]"
     },
     "metadata": {
      "needs_background": "light"
     },
     "output_type": "display_data"
    },
    {
     "data": {
      "text/plain": "<Figure size 720x360 with 1 Axes>",
      "image/png": "[encoded data removed]"
     },
     "metadata": {
      "needs_background": "light"
     },
     "output_type": "display_data"
    },
    {
     "data": {
      "text/plain": "(<Figure size 720x360 with 1 Axes>, <Figure size 720x360 with 1 Axes>)"
     },
     "execution_count": 4,
     "metadata": {},
     "output_type": "execute_result"
    }
   ],
   "source": [
    "plot_episode_stats(stats)"
   ],
   "metadata": {
    "collapsed": false,
    "pycharm": {
     "name": "#%%\n"
    }
   }
  },
  {
   "cell_type": "code",
   "execution_count": 5,
   "outputs": [
    {
     "data": {
      "text/plain": "1.2244538915250247"
     },
     "execution_count": 5,
     "metadata": {},
     "output_type": "execute_result"
    }
   ],
   "source": [
    "stats.episode_costs[0]"
   ],
   "metadata": {
    "collapsed": false,
    "pycharm": {
     "name": "#%%\n"
    }
   }
  },
  {
   "cell_type": "code",
   "execution_count": 6,
   "outputs": [
    {
     "data": {
      "text/plain": "1.0391172140188696"
     },
     "execution_count": 6,
     "metadata": {},
     "output_type": "execute_result"
    }
   ],
   "source": [
    "stats.episode_costs[2]"
   ],
   "metadata": {
    "collapsed": false,
    "pycharm": {
     "name": "#%%\n"
    }
   }
  },
  {
   "cell_type": "code",
   "execution_count": 8,
   "outputs": [
    {
     "data": {
      "text/plain": "-14394874.240234375"
     },
     "execution_count": 8,
     "metadata": {},
     "output_type": "execute_result"
    }
   ],
   "source": [
    "stats.episode_rewards[2]"
   ],
   "metadata": {
    "collapsed": false,
    "pycharm": {
     "name": "#%%\n"
    }
   }
  },
  {
   "cell_type": "code",
   "execution_count": 9,
   "outputs": [],
   "source": [
    "costs = []\n",
    "for i in range(config.n_episodes):\n",
    "    costs.append(envs[i].cost())"
   ],
   "metadata": {
    "collapsed": false,
    "pycharm": {
     "name": "#%%\n"
    }
   }
  },
  {
   "cell_type": "code",
   "execution_count": 10,
   "outputs": [
    {
     "data": {
      "text/plain": "{'ramping': 1.3090836,\n '1-load_factor': 1.454173357542482,\n 'average_daily_peak': 1.1631882,\n 'peak_demand': 1.3839219,\n 'net_electricity_consumption': 1.0178367,\n 'carbon_emissions': 1.0185196,\n 'total': 1.2244538915250247,\n 'coordination_score': 1.32759175480806}"
     },
     "execution_count": 10,
     "metadata": {},
     "output_type": "execute_result"
    }
   ],
   "source": [
    "costs[0]"
   ],
   "metadata": {
    "collapsed": false,
    "pycharm": {
     "name": "#%%\n"
    }
   }
  },
  {
   "cell_type": "code",
   "execution_count": 11,
   "outputs": [
    {
     "data": {
      "text/plain": "{'ramping': 0.9742826,\n '1-load_factor': 1.2839945613624837,\n 'average_daily_peak': 1.1408511,\n 'peak_demand': 1.2071524,\n 'net_electricity_consumption': 1.0074786,\n 'carbon_emissions': 1.0138487,\n 'total': 1.1046013245861097,\n 'coordination_score': 1.1515701725900716}"
     },
     "execution_count": 11,
     "metadata": {},
     "output_type": "execute_result"
    }
   ],
   "source": [
    "costs[1]"
   ],
   "metadata": {
    "collapsed": false,
    "pycharm": {
     "name": "#%%\n"
    }
   }
  },
  {
   "cell_type": "code",
   "execution_count": 12,
   "outputs": [
    {
     "data": {
      "text/plain": "{'ramping': 0.9461662,\n '1-load_factor': 1.170997895410518,\n 'average_daily_peak': 1.115361,\n 'peak_demand': 1.0916711,\n 'net_electricity_consumption': 0.98294556,\n 'carbon_emissions': 0.9900826,\n 'total': 1.0495373966976769,\n 'coordination_score': 1.0810490493006657}"
     },
     "execution_count": 12,
     "metadata": {},
     "output_type": "execute_result"
    }
   ],
   "source": [
    "costs[4]"
   ],
   "metadata": {
    "collapsed": false,
    "pycharm": {
     "name": "#%%\n"
    }
   }
  },
  {
   "cell_type": "code",
   "execution_count": 13,
   "outputs": [],
   "source": [
    "from citylearn import  CityLearn\n",
    "from pathlib import Path\n",
    "import numpy as np\n",
    "from agents.rbc import RBC"
   ],
   "metadata": {
    "collapsed": false,
    "pycharm": {
     "name": "#%%\n"
    }
   }
  },
  {
   "cell_type": "code",
   "execution_count": 103,
   "outputs": [],
   "source": [
    "# Select the climate zone and load environment\n",
    "climate_zone = 5\n",
    "sim_period = (0, 8760*4 - 1)\n",
    "params = {'data_path':Path(\"/Users/xiejiahan/PycharmProjects/CityLearn/data/Climate_Zone_\"+str(climate_zone)),\n",
    "        'building_attributes':'building_attributes.json',\n",
    "        'weather_file':'weather_data.csv',\n",
    "        'solar_profile':'solar_generation_1kW.csv',\n",
    "        'carbon_intensity':'carbon_intensity.csv',\n",
    "        'building_ids':[\"Building_\"+str(i) for i in [1,2,3,4,5,6,7,8,9]],\n",
    "        'buildings_states_actions':'/Users/xiejiahan/PycharmProjects/CityLearn/buildings_state_action_space.json',\n",
    "        'simulation_period': sim_period,\n",
    "        'cost_function': ['ramping','1-load_factor','average_daily_peak','peak_demand','net_electricity_consumption','carbon_emissions'],\n",
    "        'central_agent': False,\n",
    "        'save_memory': False }\n",
    "\n",
    "env = CityLearn(**params)\n",
    "\n",
    "observations_spaces, actions_spaces = env.get_state_action_spaces()"
   ],
   "metadata": {
    "collapsed": false,
    "pycharm": {
     "name": "#%%\n"
    }
   }
  },
  {
   "cell_type": "code",
   "execution_count": 104,
   "outputs": [
    {
     "name": "stdout",
     "output_type": "stream",
     "text": [
      "50.092589139938354\n"
     ]
    }
   ],
   "source": [
    "import json\n",
    "import time\n",
    "# Instantiating the control agent(s)\n",
    "agents = RBC(actions_spaces)\n",
    "\n",
    "# Finding which state\n",
    "with open('/Users/xiejiahan/PycharmProjects/CityLearn/buildings_state_action_space.json') as file:\n",
    "    actions_ = json.load(file)\n",
    "\n",
    "indx_hour = -1\n",
    "for obs_name, selected in list(actions_.values())[0]['states'].items():\n",
    "    indx_hour += 1\n",
    "    if obs_name=='hour':\n",
    "        break\n",
    "    assert indx_hour < len(list(actions_.values())[0]['states'].items()) - 1, \"Please, select hour as a state for Building_1 to run the RBC\"\n",
    "\n",
    "state = env.reset()\n",
    "done = False\n",
    "rewards_list = []\n",
    "start = time.time()\n",
    "while not done:\n",
    "    hour_state = np.array([[state[0][indx_hour]]])\n",
    "    action = agents.select_action(hour_state)\n",
    "    next_state, rewards, done, _ = env.step(action)\n",
    "    state = next_state\n",
    "    rewards_list.append(rewards)\n",
    "cost_rbc = env.cost()\n",
    "end = time.time()\n",
    "print(end-start)"
   ],
   "metadata": {
    "collapsed": false,
    "pycharm": {
     "name": "#%%\n"
    }
   }
  },
  {
   "cell_type": "code",
   "execution_count": 105,
   "outputs": [],
   "source": [
    "rbc_env = env"
   ],
   "metadata": {
    "collapsed": false,
    "pycharm": {
     "name": "#%%\n"
    }
   }
  },
  {
   "cell_type": "code",
   "execution_count": 37,
   "outputs": [],
   "source": [
    "rbc_net_elec_consumption = rbc_env.net_electric_consumption"
   ],
   "metadata": {
    "collapsed": false,
    "pycharm": {
     "name": "#%%\n"
    }
   }
  },
  {
   "cell_type": "code",
   "execution_count": 25,
   "outputs": [],
   "source": [
    "first_ep_elec_consumption_to_rbc = envs[0].net_electric_consumption / rbc_net_elec_consumption"
   ],
   "metadata": {
    "collapsed": false,
    "pycharm": {
     "name": "#%%\n"
    }
   }
  },
  {
   "cell_type": "code",
   "execution_count": 26,
   "outputs": [
    {
     "data": {
      "text/plain": "[<matplotlib.lines.Line2D at 0x31836fb50>]"
     },
     "execution_count": 26,
     "metadata": {},
     "output_type": "execute_result"
    },
    {
     "data": {
      "text/plain": "<Figure size 432x288 with 1 Axes>",
      "image/png": "[encoded data removed]"
     },
     "metadata": {
      "needs_background": "light"
     },
     "output_type": "display_data"
    }
   ],
   "source": [
    "plt.plot(first_ep_elec_consumption_to_rbc)"
   ],
   "metadata": {
    "collapsed": false,
    "pycharm": {
     "name": "#%%\n"
    }
   }
  },
  {
   "cell_type": "code",
   "execution_count": 33,
   "outputs": [],
   "source": [
    "second_ep_elec_consumption_to_rbc = envs[1].net_electric_consumption.sum() / rbc_net_elec_consumption.sum()"
   ],
   "metadata": {
    "collapsed": false,
    "pycharm": {
     "name": "#%%\n"
    }
   }
  },
  {
   "cell_type": "code",
   "execution_count": 47,
   "outputs": [
    {
     "data": {
      "text/plain": "[<matplotlib.lines.Line2D at 0x310bd8910>]"
     },
     "execution_count": 47,
     "metadata": {},
     "output_type": "execute_result"
    },
    {
     "data": {
      "text/plain": "<Figure size 432x288 with 1 Axes>",
      "image/png": "[encoded data removed]"
     },
     "metadata": {
      "needs_background": "light"
     },
     "output_type": "display_data"
    }
   ],
   "source": [
    "relative = [envs[4].net_electric_consumption[0:t].sum() / rbc_net_elec_consumption[0:t].sum() for t in range(200)]\n",
    "plt.plot(relative )"
   ],
   "metadata": {
    "collapsed": false,
    "pycharm": {
     "name": "#%%\n"
    }
   }
  },
  {
   "cell_type": "code",
   "execution_count": 35,
   "outputs": [
    {
     "name": "stdout",
     "output_type": "stream",
     "text": [
      "1.0074786\n"
     ]
    }
   ],
   "source": [
    "print(np.mean(second_ep_elec_consumption_to_rbc))"
   ],
   "metadata": {
    "collapsed": false,
    "pycharm": {
     "name": "#%%\n"
    }
   }
  },
  {
   "cell_type": "code",
   "execution_count": 40,
   "outputs": [
    {
     "data": {
      "text/plain": "array([160.8062, 138.6187, 133.4465, 135.0164, 130.4572, 145.8054,\n        79.9596, 153.5376, 120.1112, 112.8155], dtype=float32)"
     },
     "execution_count": 40,
     "metadata": {},
     "output_type": "execute_result"
    }
   ],
   "source": [
    "rbc_net_elec_consumption[0:10]"
   ],
   "metadata": {
    "collapsed": false,
    "pycharm": {
     "name": "#%%\n"
    }
   }
  },
  {
   "cell_type": "code",
   "execution_count": 50,
   "outputs": [
    {
     "data": {
      "text/plain": "array([ 84.63072 ,  75.372635,  71.73477 ,  72.174194,  70.12341 ,\n        78.19994 ,  43.359886,  83.95041 ,  65.88811 ,  63.57539 ,\n        71.42625 ,  75.11574 ,  50.44134 ,  53.653343,  56.46815 ,\n        44.381237,  51.034885,  62.07058 ,  74.5305  ,  59.568   ,\n        60.1656  ,  71.82372 ,  81.652756,  61.295834,  80.651794,\n        73.606476,  76.089485,  78.65228 ,  78.27047 ,  84.17463 ,\n        51.777184, 101.71324 ,  84.07298 ,  69.55548 , 101.29554 ,\n        69.14058 ,  58.27279 ,  67.067696,  70.227425,  55.11797 ,\n        71.679535,  68.202415,  71.67358 ,  87.76797 ,  86.0084  ,\n        94.27746 ,  89.76563 ,  82.656944,  80.24801 ,  73.59699 ,\n        73.77427 ,  75.80871 ,  72.24938 ,  79.498436,  53.778873,\n        84.13193 ,  77.23882 ,  72.341896,  49.905556,  71.10963 ,\n        52.578957,  47.72158 ,  42.52927 ,  35.56198 ,  53.057148,\n        62.18275 ,  67.92816 ,  69.1585  ,  67.71485 ,  61.082638,\n        81.74999 ,  68.48401 ,  64.48035 ,  66.511696,  67.46268 ,\n        63.22864 ,  65.4052  ,  67.241325,  35.872765,  60.88017 ,\n        36.277653,  58.58468 ,  68.64848 ,  75.53467 ,  53.308117,\n        46.134216,  42.70345 ,  35.041466,  40.68457 ,  66.19788 ,\n        67.12926 ,  69.27422 ,  62.322327,  60.40265 ,  86.29648 ,\n        59.017174,  68.048256,  59.231956,  59.091015,  52.554665,\n        51.28994 ,  59.083088,  34.65324 ,  46.92837 ,  45.932217,\n        36.612774,  85.96762 ,  54.34165 ,  66.07149 ,  63.047577,\n        51.06339 ,  45.367805,  52.112858,  61.96349 ,  64.76466 ,\n        70.445694,  67.529915,  71.18496 ,  80.2495  ,  76.48047 ,\n        78.24095 ,  66.98375 ,  66.7799  ,  66.15239 ,  66.89966 ,\n        76.6065  ,  43.689278,  78.3881  ,  88.18207 ,  73.585365,\n        65.80739 ,  60.134758,  51.581463,  57.31736 ,  57.957237,\n        61.527737,  67.87301 ,  78.39572 ,  71.10487 ,  78.19964 ,\n        83.10039 ,  75.16205 ,  90.64431 ,  83.60863 ,  73.26568 ,\n        72.864075,  65.4168  ,  70.86009 ,  68.70281 ,  76.08205 ,\n        40.528828,  98.78923 ,  63.94461 ,  54.6517  ,  63.533764,\n        64.5598  ,  36.94082 ,  50.004757,  45.3996  ,  39.44892 ,\n        75.22071 ,  65.15728 ,  59.35593 ,  69.39835 ,  73.98676 ,\n        62.986256,  87.2041  ,  73.796585,  79.55515 ,  69.67041 ,\n        68.45671 ,  66.987686,  65.86547 ,  75.38904 ,  43.297318,\n        94.135254,  73.56844 ,  64.92125 ,  50.866608,  67.67023 ,\n        31.332422,  35.48956 ,  48.503582,  40.091366,  61.14755 ,\n        71.13407 ,  94.18167 ,  77.33762 ,  77.60161 ,  82.51394 ,\n        95.08818 ,  90.358894,  89.7229  ,  89.58923 ,  92.248505,\n        91.31994 ,  96.699394, 104.741585,  63.921524, 124.21431 ],\n      dtype=float32)"
     },
     "execution_count": 50,
     "metadata": {},
     "output_type": "execute_result"
    }
   ],
   "source": [
    "rbc_env.carbon_emissions"
   ],
   "metadata": {
    "collapsed": false,
    "pycharm": {
     "name": "#%%\n"
    }
   }
  },
  {
   "cell_type": "code",
   "execution_count": 53,
   "outputs": [
    {
     "data": {
      "text/plain": "array([ 0.       ,  0.       ,  0.       ,  0.       ,  0.       ,\n        0.       ,  0.       ,  0.       ,  3.38586  ,  5.502792 ,\n        8.931756 , 17.346    , 17.84628  , 11.59608  ,  6.42876  ,\n        3.707832 ,  1.1642916,  0.       ,  0.       ,  0.       ,\n        0.       ,  0.       ,  0.       ,  0.       ,  0.       ,\n        0.       ,  0.       ,  0.       ,  0.       ,  0.       ,\n        0.       ,  0.       ,  5.401344 , 13.614    , 20.96796  ,\n       28.04532  , 29.39952  , 27.88944  , 22.28184  , 14.01624  ,\n        3.058056 ,  0.       ,  0.       ,  0.       ,  0.       ,\n        0.       ,  0.       ,  0.       ,  0.       ,  0.       ,\n        0.       ,  0.       ,  0.       ,  0.       ,  0.       ,\n        0.       , 17.87784  , 25.19136  , 35.81208  , 37.4532   ,\n       39.86028  , 43.28628  , 43.46688  , 31.89816  , 10.680612 ,\n        0.       ,  0.       ,  0.       ,  0.       ,  0.       ,\n        0.       ,  0.       ,  0.       ,  0.       ,  0.       ,\n        0.       ,  0.       ,  0.       ,  0.       ,  0.       ,\n       20.04732  , 28.76604  , 32.93916  , 30.58848  , 33.22944  ,\n       29.69112  , 24.67872  , 13.83828  ,  2.383404 ,  0.       ,\n        0.       ,  0.       ,  0.       ,  0.       ,  0.       ,\n        0.       ,  0.       ,  0.       ,  0.       ,  0.       ,\n        0.       ,  0.       ,  0.       ,  0.       ,  4.206396 ,\n        9.996084 , 16.01688  , 19.35468  , 24.65808  , 25.06272  ,\n       19.47036  , 14.3424   ,  2.801472 ,  0.       ,  0.       ,\n        0.       ,  0.       ,  0.       ,  0.       ,  0.       ,\n        0.       ,  0.       ,  0.       ,  0.       ,  0.       ,\n        0.       ,  0.       ,  0.       , 11.34372  , 21.7002   ,\n       29.14932  , 38.35776  , 37.92168  , 35.40804  , 28.15104  ,\n       17.0898   ,  4.768944 ,  0.       ,  0.       ,  0.       ,\n        0.       ,  0.       ,  0.       ,  0.       ,  0.       ,\n        0.       ,  0.       ,  0.       ,  0.       ,  0.       ,\n        0.       ,  0.       , 19.97376  , 28.87872  , 33.3504   ,\n       33.97536  , 43.73208  , 46.64952  , 46.32852  , 32.52444  ,\n       13.20876  ,  1.33386  ,  0.       ,  0.       ,  0.       ,\n        0.       ,  0.       ,  0.       ,  0.       ,  0.       ,\n        0.       ,  0.       ,  0.       ,  0.       ,  0.       ,\n        0.       , 24.05016  , 38.40972  , 51.14628  , 60.07092  ,\n       60.19992  , 54.1524   , 43.49484  , 29.42772  , 10.949388 ,\n        0.840348 ,  0.       ,  0.       ,  0.       ,  0.       ,\n        0.       ,  0.       ,  0.       ,  0.       ,  0.       ,\n        0.       ,  0.       ,  0.       ,  0.       ,  0.       ])"
     },
     "execution_count": 53,
     "metadata": {},
     "output_type": "execute_result"
    }
   ],
   "source": [
    "rbc_env.buildings['Building_1'].electric_generation"
   ],
   "metadata": {
    "collapsed": false,
    "pycharm": {
     "name": "#%%\n"
    }
   }
  },
  {
   "cell_type": "code",
   "execution_count": 54,
   "outputs": [
    {
     "data": {
      "text/plain": "array([ 0.    ,  0.    ,  0.    ,  0.    ,  0.    ,  0.    ,  0.    ,\n        0.    ,  0.    ,  0.    ,  0.    ,  0.    ,  0.    ,  0.    ,\n        0.    ,  0.    ,  0.    ,  0.    ,  0.    ,  0.    ,  0.    ,\n        0.    ,  0.    ,  0.    ,  0.    ,  0.    ,  0.    ,  0.    ,\n        0.    ,  0.    , 10.69  , 12.3624, 12.3624, 12.3624, 12.3624,\n       12.3624,  9.26  ,  8.57  ,  7.24  ,  0.89  ,  0.    ,  0.    ,\n        0.    ,  0.    ,  0.    ,  0.    ,  0.    ,  0.    ,  0.    ,\n        0.    ,  0.    ,  0.    ,  0.    ,  0.    ,  0.    ,  0.    ,\n        0.    ,  0.    ,  0.    ,  0.    ,  0.    ,  0.    ,  0.    ,\n        0.    ,  0.    ,  0.    ,  0.    ,  0.    ,  0.    ,  0.    ,\n        0.    ,  0.    ,  0.    ,  0.    ,  0.    ,  0.    ,  0.    ,\n        0.    ,  0.    ,  0.    ,  0.    ,  0.    ,  0.    ,  0.    ,\n        0.    ,  4.46  , 12.3624, 18.28  ,  8.73  ,  0.42  ,  0.    ,\n        0.    ,  0.    ,  0.    ,  0.    ,  0.    ,  0.    ,  0.    ,\n        0.    ,  0.    ,  0.    ,  0.    ,  0.    ,  0.    ,  0.    ,\n        0.    ,  0.    ,  0.    ,  0.    ,  0.    ,  0.    ,  0.    ,\n        0.    ,  0.    ,  0.    ,  0.    ,  0.    ,  0.    ,  0.    ,\n        0.    ,  0.    ,  0.    ,  0.    ,  0.    ,  0.    ,  0.    ,\n        0.    ,  0.    ,  0.    ,  0.    ,  0.    ,  0.    ,  0.    ,\n        0.    ,  0.    ,  0.    ,  0.    ,  0.    ,  0.    ,  0.    ,\n        0.    ,  0.    ,  0.    ,  0.    ,  0.    ,  0.    ,  0.    ,\n        0.    ,  0.    ,  0.    ,  0.    ,  0.    ,  0.    ,  0.    ,\n        0.    ,  0.    ,  0.    ,  0.    ,  0.    ,  0.    ,  0.    ,\n        0.    ,  0.    ,  0.    ,  0.    ,  0.    ,  0.    ,  0.    ,\n        0.    ,  0.    ,  0.    ,  0.    ,  0.    ,  0.    ,  0.    ,\n        0.    ,  0.    ,  0.    ,  0.    ,  0.    ,  0.    ,  0.    ,\n        0.    ,  0.    ,  0.    ,  0.    ,  0.    ,  0.    ,  0.    ,\n        0.    ,  0.    ,  0.    ,  0.    ,  0.    ,  0.    ,  0.    ,\n        0.    ,  0.    ,  0.    ,  0.    ])"
     },
     "execution_count": 54,
     "metadata": {},
     "output_type": "execute_result"
    }
   ],
   "source": [
    "rbc_env.buildings['Building_1'].cooling_storage_to_building"
   ],
   "metadata": {
    "collapsed": false,
    "pycharm": {
     "name": "#%%\n"
    }
   }
  },
  {
   "cell_type": "code",
   "execution_count": 55,
   "outputs": [
    {
     "data": {
      "text/plain": "array([0.        , 0.        , 0.        , 0.        , 0.        ,\n       0.        , 0.2136    , 0.2136    , 0.2136    , 0.2136    ,\n       0.2136    , 0.2136    , 0.2136    , 0.2136    , 0.2136    ,\n       0.38      , 0.38      , 0.38      , 0.        , 0.        ,\n       0.        , 0.        , 0.        , 0.        , 0.        ,\n       0.        , 0.        , 0.        , 0.        , 0.        ,\n       0.2136    , 0.2136    , 0.2136    , 0.2136    , 0.2136    ,\n       0.2136    , 0.2136    , 0.2136    , 0.2136    , 0.46992   ,\n       0.46992   , 0.46992   , 0.25632   , 0.25632   , 0.21182917,\n       0.        , 0.        , 0.        , 0.        , 0.        ,\n       0.        , 0.        , 0.        , 0.        , 0.2136    ,\n       0.2136    , 0.2136    , 0.2136    , 0.2136    , 0.2136    ,\n       0.2136    , 0.2136    , 0.2136    , 0.46992   , 0.46992   ,\n       0.46992   , 0.25632   , 0.25632   , 0.04527937, 0.        ,\n       0.        , 0.        , 0.        , 0.        , 0.        ,\n       0.        , 0.        , 0.        , 0.2136    , 0.2136    ,\n       0.2136    , 0.2136    , 0.2136    , 0.2136    , 0.2136    ,\n       0.2136    , 0.2136    , 0.46992   , 0.46992   , 0.46992   ,\n       0.25632   , 0.        , 0.        , 0.        , 0.        ,\n       0.        , 0.        , 0.        , 0.        , 0.        ,\n       0.        , 0.        , 0.2136    , 0.2136    , 0.2136    ,\n       0.2136    , 0.2136    , 0.2136    , 0.2136    , 0.2136    ,\n       0.2136    , 0.38      , 0.38      , 0.38      , 0.        ,\n       0.        , 0.        , 0.        , 0.        , 0.        ,\n       0.        , 0.        , 0.        , 0.        , 0.        ,\n       0.        , 0.2136    , 0.2136    , 0.2136    , 0.2136    ,\n       0.2136    , 0.2136    , 0.2136    , 0.2136    , 0.2136    ,\n       0.46992   , 0.46992   , 0.46992   , 0.25632   , 0.25632   ,\n       0.25632   , 0.25632   , 0.        , 0.        , 0.        ,\n       0.        , 0.        , 0.        , 0.        , 0.        ,\n       0.2136    , 0.2136    , 0.2136    , 0.2136    , 0.2136    ,\n       0.2136    , 0.2136    , 0.2136    , 0.2136    , 0.46992   ,\n       0.46992   , 0.46992   , 0.25632   , 0.25632   , 0.25632   ,\n       0.12177319, 0.        , 0.        , 0.        , 0.        ,\n       0.        , 0.        , 0.        , 0.        , 0.2136    ,\n       0.2136    , 0.2136    , 0.2136    , 0.2136    , 0.2136    ,\n       0.2136    , 0.2136    , 0.2136    , 0.46992   , 0.46992   ,\n       0.46992   , 0.25632   , 0.25632   , 0.04527937, 0.        ,\n       0.        , 0.        , 0.        , 0.        , 0.        ,\n       0.        , 0.        , 0.        , 0.2136    , 0.2136    ])"
     },
     "execution_count": 55,
     "metadata": {},
     "output_type": "execute_result"
    }
   ],
   "source": [
    "rbc_env.buildings['Building_1'].dhw_storage_to_building"
   ],
   "metadata": {
    "collapsed": false,
    "pycharm": {
     "name": "#%%\n"
    }
   }
  },
  {
   "cell_type": "code",
   "execution_count": 106,
   "outputs": [],
   "source": [
    "all_cooling_storage_to_building_list = np.array([rbc_env.buildings['Building_' + str(i)].cooling_storage_to_building[8760*3 + 5*24*30:8760*3 + 8*24*30] for i in range(1, 10)])"
   ],
   "metadata": {
    "collapsed": false,
    "pycharm": {
     "name": "#%%\n"
    }
   }
  },
  {
   "cell_type": "code",
   "execution_count": 113,
   "outputs": [],
   "source": [
    "sum_lsts = lambda lst: map(np.sum, zip(*lst))"
   ],
   "metadata": {
    "collapsed": false,
    "pycharm": {
     "name": "#%%\n"
    }
   }
  },
  {
   "cell_type": "code",
   "execution_count": 114,
   "outputs": [],
   "source": [
    "all_cooling_storage_to_building_zip = sum_lsts(all_cooling_storage_to_building_list)"
   ],
   "metadata": {
    "collapsed": false,
    "pycharm": {
     "name": "#%%\n"
    }
   }
  },
  {
   "cell_type": "code",
   "execution_count": 115,
   "outputs": [],
   "source": [
    "all_cooling_storage_to_building = list(all_cooling_storage_to_building_zip)"
   ],
   "metadata": {
    "collapsed": false,
    "pycharm": {
     "name": "#%%\n"
    }
   }
  },
  {
   "cell_type": "code",
   "execution_count": 116,
   "outputs": [
    {
     "data": {
      "text/plain": "2160"
     },
     "execution_count": 116,
     "metadata": {},
     "output_type": "execute_result"
    }
   ],
   "source": [
    "all_cooling_storage_to_building.__len__()"
   ],
   "metadata": {
    "collapsed": false,
    "pycharm": {
     "name": "#%%\n"
    }
   }
  },
  {
   "cell_type": "code",
   "execution_count": 111,
   "outputs": [
    {
     "data": {
      "text/plain": "array([0., 0., 0., ..., 0., 0., 0.])"
     },
     "execution_count": 111,
     "metadata": {},
     "output_type": "execute_result"
    }
   ],
   "source": [
    "june_aug_interval = range(8760*3 + 5*24*30, 8760*3 + 8*24*30)\n",
    "rbc_env.buildings['Building_1'].cooling_storage_to_building[june_aug_interval]"
   ],
   "metadata": {
    "collapsed": false,
    "pycharm": {
     "name": "#%%\n"
    }
   }
  },
  {
   "cell_type": "code",
   "execution_count": 118,
   "outputs": [
    {
     "data": {
      "text/plain": "49.07579999999998"
     },
     "execution_count": 118,
     "metadata": {},
     "output_type": "execute_result"
    }
   ],
   "source": [
    "all_cooling_storage_to_building[200]"
   ],
   "metadata": {
    "collapsed": false,
    "pycharm": {
     "name": "#%%\n"
    }
   }
  },
  {
   "cell_type": "code",
   "execution_count": null,
   "outputs": [],
   "source": [],
   "metadata": {
    "collapsed": false,
    "pycharm": {
     "name": "#%%\n"
    }
   }
  }
 ],
 "metadata": {
  "kernelspec": {
   "display_name": "Python 3",
   "language": "python",
   "name": "python3"
  },
  "language_info": {
   "codemirror_mode": {
    "name": "ipython",
    "version": 2
   },
   "file_extension": ".py",
   "mimetype": "text/x-python",
   "name": "python",
   "nbconvert_exporter": "python",
   "pygments_lexer": "ipython2",
   "version": "2.7.6"
  }
 },
 "nbformat": 4,
 "nbformat_minor": 0
}